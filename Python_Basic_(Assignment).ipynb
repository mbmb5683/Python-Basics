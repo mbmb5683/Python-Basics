{
  "nbformat": 4,
  "nbformat_minor": 0,
  "metadata": {
    "colab": {
      "provenance": []
    },
    "kernelspec": {
      "name": "python3",
      "display_name": "Python 3"
    },
    "language_info": {
      "name": "python"
    }
  },
  "cells": [
    {
      "cell_type": "markdown",
      "source": [
        "                            Assignment queston"
      ],
      "metadata": {
        "id": "4iQyXUmho2Gf"
      }
    },
    {
      "cell_type": "markdown",
      "source": [
        "Python Basics Questions (Theroy Question)\n",
        "\n",
        "1. What is python and why it is important?\n",
        "2. what is an interpreter in python?\n",
        "3. what are pre-defined keywords in python ?\n",
        "4. can keywords used as a variable name?\n",
        "5. what is mutability in python?\n",
        "6. why lists are mutable,but tuple are immutable?\n",
        "7. what is the difference between \"==\" and \"is\" operators in python ?\n",
        "8. what are logical operators in python?\n",
        "9. what is type casting in python?\n",
        "10. what is the difference between implict and explict type casting?\n",
        "11. what is the purpose of conditional statements in python ?\n",
        "12. how does the elif statement works?\n",
        "13. what is the difference between for and while loops?\n",
        "14. Describe a scenario where while loop is more suitable than for loop.\n"
      ],
      "metadata": {
        "id": "2nVj9Y2jo7U4"
      }
    },
    {
      "cell_type": "markdown",
      "source": [
        "**Answer of python basic question (Theory Answer)**\n",
        "\n",
        "\n",
        "1. python is a programming language and it is important due to it's features like:- a. mosty used in industry\n",
        "       b. community\n",
        "       c. liraries(pandas, numpy,matplatib,seaborn)\n",
        "       d. easy to learn and use (keywords are in english lang.)\n",
        "       e. versatile nature (frontend, backend, AI, Data analytics)\n",
        "       f. scalability and flexiabiity\n",
        "there are some reason tha i have mentioned above, that is why python is important.\n",
        "\n",
        "\n",
        "2. python's interpreter is a program that reads and execute the python code line by line basically it converts the high-level language into low level language by that computer can understand it and run the instructions properly.\n",
        "\n",
        "3. key-words = key-words are special syntax or special symbol in python that are prefer for doing some specific task in the code like:-\n",
        "  - if else : used for condtional statements\n",
        "  - sum : used to sum the values\n",
        "  - true/flase : represents the bool values\n",
        "  - and/or/not : used to represent the logical operator\n",
        "  and man more...\n",
        "\n",
        "4. keywords cannot be used as a variable name because python have some rules and if a keywords used as a variable name then afterwards python will not understand the keyword so we have to restart the kernal.\n",
        "\n",
        "5. mutability:- mutability in python means we can change or update in the variables after the creation.\n",
        "          There are 4 buit in function in pthon:\n",
        "          1. list [mutable]\n",
        "          2. tuple (immutable)\n",
        "          3. set {immutable}\n",
        "          4. dict {older version :- immutabe, newer version :- mutable}\n",
        "\n",
        "6. list are mutable :- because list have dynamic length and they are slower than tuple, where as tuples are immutable because they have fixed length, they cannot be changed after the creation. They are faster than list.\n",
        "\n",
        "7. The basic difference between == and is operator in python:-\n",
        "\n",
        "        ==                              \n",
        "\n",
        "    1. it compares the object values\n",
        "    \n",
        "        is\n",
        "    \n",
        "    2. it compares the objects's memory reference\n",
        "\n",
        "\n",
        "8. logical operators :- Basically logically operators in python are used to build logic and the output we get from logical operator in true or false.\n",
        "there are three logical operators in python\n",
        "    1. and\n",
        "    2. or\n",
        "    3. not\n",
        "\n",
        "9. Type casting : we use typecasting to change the data types in another data types.\n",
        "    like: string to int\n",
        "          int to float\n",
        "          float to int\n",
        "          float to str\n",
        "          int to str\n",
        "\n",
        "    code : a=\"5\"\n",
        "    print (type(int(a)))  #typecasting: str to int\n",
        "\n",
        "10. The difference between implict and explict casting is:\n",
        "\n",
        "    1. implict casting: done automatically by python\n",
        "\n",
        "          for example: a= 4\n",
        "                       print(type(a))\n",
        "                       o/p: int\n",
        "    \n",
        "    2. Explict casting: done by use to change the data types\n",
        "\n",
        "          for example: a=\"4\"\n",
        "                       print(type(int(a)))\n",
        "                       o/p: int\n",
        "\n",
        "11. conditional statement purpose: it is used to write the condition in the code.\n",
        "In daily life we have lots of condition to when we need to write in those condition in code we use conditional statements .\n",
        "there are some conditional statements like:\n",
        "     1.if\n",
        "     2.elif\n",
        "     3.if-else\n",
        "     4.nested if-else\n",
        "     \n",
        "     for example: a= 4\n",
        "                  if a<10:\n",
        "                  print(\"yes the number is less than 10\")\n",
        "                  else:\n",
        "                  print(\"the number is greater than 10\")\n",
        "\n",
        "\n",
        "12. elif working: Basically elif is a conditiona statement used to write the condition.\n",
        "\n",
        "          for example:\n",
        "\n",
        "                  day= \"winter\"\n",
        "                  if day==\"rainy\":\n",
        "                    print(\"i will play football\")\n",
        "                  elif day==\"winter\"\n",
        "                    print(\"i will play badminton\")\n",
        "                  else:\n",
        "                    print(\"i will watch tv\")\n",
        "\n",
        "This is how elif works.\n",
        "\n",
        "13. difference between for loop and while loop:\n",
        "\n",
        "  1. for loop: for loop basically used to iterate over the sequence of element in the variable.\n",
        "\n",
        "  2. while loop: where as while loop is used to execute the block of  until the condition become false\n",
        "\n",
        "14. Basically for loop is good when you know the number of iteraton where in the second case while loop is good where you don't know the number of iteration.\n"
      ],
      "metadata": {
        "id": "gMrRyNlEo7zr"
      }
    },
    {
      "cell_type": "markdown",
      "source": [
        "                              **Practical Question**"
      ],
      "metadata": {
        "id": "kVzxZpESJQCY"
      }
    },
    {
      "cell_type": "markdown",
      "source": [
        "1. write a python program to print \"Hello World!\""
      ],
      "metadata": {
        "id": "HhFOyoTzKpOR"
      }
    },
    {
      "cell_type": "code",
      "source": [
        "print(\"Hello World!\")"
      ],
      "metadata": {
        "colab": {
          "base_uri": "https://localhost:8080/"
        },
        "id": "nGHMBljjJHeJ",
        "outputId": "a49af008-4e05-4b45-82e8-0ed6ef60c2be"
      },
      "execution_count": null,
      "outputs": [
        {
          "output_type": "stream",
          "name": "stdout",
          "text": [
            "Hello World!\n"
          ]
        }
      ]
    },
    {
      "cell_type": "markdown",
      "source": [
        "2. Write a program that displays your name and age."
      ],
      "metadata": {
        "id": "sh-kX98NK5tY"
      }
    },
    {
      "cell_type": "code",
      "source": [
        "name=\"Mohit Raj\"\n",
        "age= 23\n",
        "print(f\"{name}\\n{age}\")"
      ],
      "metadata": {
        "colab": {
          "base_uri": "https://localhost:8080/"
        },
        "id": "heEgN_luJHqN",
        "outputId": "bd7310b9-6756-4232-c717-7615f0bfc933"
      },
      "execution_count": null,
      "outputs": [
        {
          "output_type": "stream",
          "name": "stdout",
          "text": [
            "Mohit Raj\n",
            "23\n"
          ]
        }
      ]
    },
    {
      "cell_type": "markdown",
      "source": [
        "3. Write a code to print all the pre-defined keywords in python using the python library"
      ],
      "metadata": {
        "id": "-e3utNfwLNcS"
      }
    },
    {
      "cell_type": "code",
      "source": [
        "help(\"keywords\")"
      ],
      "metadata": {
        "colab": {
          "base_uri": "https://localhost:8080/"
        },
        "id": "p2VDPsYfJHu1",
        "outputId": "9bb4221d-b3f4-4201-95a3-292f75a938bc"
      },
      "execution_count": null,
      "outputs": [
        {
          "output_type": "stream",
          "name": "stdout",
          "text": [
            "\n",
            "Here is a list of the Python keywords.  Enter any keyword to get more help.\n",
            "\n",
            "False               class               from                or\n",
            "None                continue            global              pass\n",
            "True                def                 if                  raise\n",
            "and                 del                 import              return\n",
            "as                  elif                in                  try\n",
            "assert              else                is                  while\n",
            "async               except              lambda              with\n",
            "await               finally             nonlocal            yield\n",
            "break               for                 not                 \n",
            "\n"
          ]
        }
      ]
    },
    {
      "cell_type": "markdown",
      "source": [
        "4. Write a program to check if a given word is python keyword."
      ],
      "metadata": {
        "id": "M6JkKiiPLuTp"
      }
    },
    {
      "cell_type": "code",
      "source": [
        "import keyword\n",
        "a=\"if\"\n",
        "if keyword.iskeyword(a):\n",
        "  print(\"yes it is a keyword\")\n",
        "else:\n",
        "  print(\"not a keyword\")"
      ],
      "metadata": {
        "colab": {
          "base_uri": "https://localhost:8080/"
        },
        "id": "oYmTklOhJH1c",
        "outputId": "eeb2769e-9779-4f2c-f6e1-2474f831a022"
      },
      "execution_count": null,
      "outputs": [
        {
          "output_type": "stream",
          "name": "stdout",
          "text": [
            "yes it is a keyword\n"
          ]
        }
      ]
    },
    {
      "cell_type": "markdown",
      "source": [
        "5. Create a list and tuple in python, and demonestrate how attempting to change an element works differently for each"
      ],
      "metadata": {
        "id": "dmvhEm6rWChR"
      }
    },
    {
      "cell_type": "code",
      "source": [
        "a=[1,2,3,4]    #original list\n",
        "print(\"original list:\", a)\n",
        "\n",
        "a[1]=\"mohit\"   #modified list\n",
        "print(\"updated list:\", a)\n",
        "\n",
        "\n",
        "b=(1,2,3,4)   #original tuple\n",
        "print(\"original tuple :\", b)\n",
        "\n",
        "b[1]=\"mohit\"  #modified tuple\n",
        "print(\"updated tuple:\", b)      #o/p:- tuple does not support item assignmet because tuples are immutable."
      ],
      "metadata": {
        "colab": {
          "base_uri": "https://localhost:8080/",
          "height": 245
        },
        "id": "YppbvC7LJH4a",
        "outputId": "b278dea8-3674-4456-a240-ad58fd70a039"
      },
      "execution_count": null,
      "outputs": [
        {
          "output_type": "stream",
          "name": "stdout",
          "text": [
            "original list: [1, 2, 3, 4]\n",
            "updated list: [1, 'mohit', 3, 4]\n",
            "original tuple : (1, 2, 3, 4)\n"
          ]
        },
        {
          "output_type": "error",
          "ename": "TypeError",
          "evalue": "'tuple' object does not support item assignment",
          "traceback": [
            "\u001b[0;31m---------------------------------------------------------------------------\u001b[0m",
            "\u001b[0;31mTypeError\u001b[0m                                 Traceback (most recent call last)",
            "\u001b[0;32m<ipython-input-24-d1c0e1976dd4>\u001b[0m in \u001b[0;36m<cell line: 0>\u001b[0;34m()\u001b[0m\n\u001b[1;32m      9\u001b[0m \u001b[0mprint\u001b[0m\u001b[0;34m(\u001b[0m\u001b[0;34m\"original tuple :\"\u001b[0m\u001b[0;34m,\u001b[0m \u001b[0mb\u001b[0m\u001b[0;34m)\u001b[0m\u001b[0;34m\u001b[0m\u001b[0;34m\u001b[0m\u001b[0m\n\u001b[1;32m     10\u001b[0m \u001b[0;34m\u001b[0m\u001b[0m\n\u001b[0;32m---> 11\u001b[0;31m \u001b[0mb\u001b[0m\u001b[0;34m[\u001b[0m\u001b[0;36m1\u001b[0m\u001b[0;34m]\u001b[0m\u001b[0;34m=\u001b[0m\u001b[0;34m\"mohit\"\u001b[0m  \u001b[0;31m#modified tuple\u001b[0m\u001b[0;34m\u001b[0m\u001b[0;34m\u001b[0m\u001b[0m\n\u001b[0m\u001b[1;32m     12\u001b[0m \u001b[0mprint\u001b[0m\u001b[0;34m(\u001b[0m\u001b[0;34m\"updated tuple:\"\u001b[0m\u001b[0;34m,\u001b[0m \u001b[0mb\u001b[0m\u001b[0;34m)\u001b[0m      \u001b[0;31m#o/p:- tuple does not support item assignmet because tuples are immutable.\u001b[0m\u001b[0;34m\u001b[0m\u001b[0;34m\u001b[0m\u001b[0m\n",
            "\u001b[0;31mTypeError\u001b[0m: 'tuple' object does not support item assignment"
          ]
        }
      ]
    },
    {
      "cell_type": "markdown",
      "source": [
        "6. Write a function to demonstrate the behaviour of mutable and immutable arguments.\n",
        "\n",
        "ans:- As we can see in the above code that list can be modified where as tuple cannot because lists are mutable and tuples are immutable. if we try to change the tuple values we will get an error.\n",
        "\n",
        "so if we also want to change the values of a tuple:-\n",
        "\n",
        "1. change the tuple into list with the help of casting\n",
        "2. update the item of list\n",
        "3. then with the help help of casting convert the list into tuple again."
      ],
      "metadata": {
        "id": "oPcLI6apX2Ok"
      }
    },
    {
      "cell_type": "code",
      "source": [
        "a=(1,2,3,4)\n",
        "a[1]=\"mohit\"\n",
        "a"
      ],
      "metadata": {
        "colab": {
          "base_uri": "https://localhost:8080/",
          "height": 176
        },
        "id": "xmkcWX4KJH7b",
        "outputId": "43e896f3-7664-4a97-9bc0-d48ea2356030"
      },
      "execution_count": null,
      "outputs": [
        {
          "output_type": "error",
          "ename": "TypeError",
          "evalue": "'tuple' object does not support item assignment",
          "traceback": [
            "\u001b[0;31m---------------------------------------------------------------------------\u001b[0m",
            "\u001b[0;31mTypeError\u001b[0m                                 Traceback (most recent call last)",
            "\u001b[0;32m<ipython-input-33-833931ff248d>\u001b[0m in \u001b[0;36m<cell line: 0>\u001b[0;34m()\u001b[0m\n\u001b[1;32m      1\u001b[0m \u001b[0ma\u001b[0m\u001b[0;34m=\u001b[0m\u001b[0;34m(\u001b[0m\u001b[0;36m1\u001b[0m\u001b[0;34m,\u001b[0m\u001b[0;36m2\u001b[0m\u001b[0;34m,\u001b[0m\u001b[0;36m3\u001b[0m\u001b[0;34m,\u001b[0m\u001b[0;36m4\u001b[0m\u001b[0;34m)\u001b[0m\u001b[0;34m\u001b[0m\u001b[0;34m\u001b[0m\u001b[0m\n\u001b[0;32m----> 2\u001b[0;31m \u001b[0ma\u001b[0m\u001b[0;34m[\u001b[0m\u001b[0;36m1\u001b[0m\u001b[0;34m]\u001b[0m\u001b[0;34m=\u001b[0m\u001b[0;34m\"mohit\"\u001b[0m\u001b[0;34m\u001b[0m\u001b[0;34m\u001b[0m\u001b[0m\n\u001b[0m\u001b[1;32m      3\u001b[0m \u001b[0ma\u001b[0m\u001b[0;34m\u001b[0m\u001b[0;34m\u001b[0m\u001b[0m\n",
            "\u001b[0;31mTypeError\u001b[0m: 'tuple' object does not support item assignment"
          ]
        }
      ]
    },
    {
      "cell_type": "code",
      "source": [
        "a=(1,2,3,4)\n",
        "b=list(a)\n",
        "b[1]=\"mohit\"\n",
        "print(tuple(b))"
      ],
      "metadata": {
        "colab": {
          "base_uri": "https://localhost:8080/"
        },
        "id": "U-Oz01xUJH-U",
        "outputId": "356a46d1-62f4-480d-ed73-eac54f40525e"
      },
      "execution_count": null,
      "outputs": [
        {
          "output_type": "stream",
          "name": "stdout",
          "text": [
            "(1, 'mohit', 3, 4)\n"
          ]
        }
      ]
    },
    {
      "cell_type": "markdown",
      "source": [
        "7. Write a program that performs basic arithmetic operations on two user-input numbers."
      ],
      "metadata": {
        "id": "Dd_wQhJlZbVh"
      }
    },
    {
      "cell_type": "code",
      "source": [
        "a=int(input(\"enter the first number\"))\n",
        "b=int(input(\"enter the second number\"))\n",
        "sum = a+b; diff= a-b; mul= a*b; div= a/b; mod= a%b; power=a**b; floordivision=a//b;\n",
        "print(\"the output is :\",\"\\n\",sum,\"\\n\", diff, \"\\n\",mul,\"\\n\", div,\"\\n\", mod,\"\\n\", power, \"\\n\",floordivision)"
      ],
      "metadata": {
        "colab": {
          "base_uri": "https://localhost:8080/"
        },
        "id": "E9mBQMqLZX1V",
        "outputId": "3a06deca-d4a1-47ac-f688-20655f0e0f0d"
      },
      "execution_count": null,
      "outputs": [
        {
          "output_type": "stream",
          "name": "stdout",
          "text": [
            "enter the first number6\n",
            "enter the second number2\n",
            "the output is : \n",
            " 8 \n",
            " 4 \n",
            " 12 \n",
            " 3.0 \n",
            " 0 \n",
            " 36 \n",
            " 3\n"
          ]
        }
      ]
    },
    {
      "cell_type": "markdown",
      "source": [
        "8. Write a program to demonstrate the use of logical operators."
      ],
      "metadata": {
        "id": "b0bhyK60guwt"
      }
    },
    {
      "cell_type": "code",
      "source": [
        "a=5\n",
        "if 0<a & a<10:\n",
        "  print(f'{a} is between 0 and 10')\n",
        "else:\n",
        "  print(f'{a} not in between 0 and 10')\n",
        "\n",
        "if 0<a | a<15:\n",
        "  print(f'{a} is between 0 and 15')\n",
        "else:\n",
        "  print(f'{a} not in between 0 and 15')"
      ],
      "metadata": {
        "colab": {
          "base_uri": "https://localhost:8080/"
        },
        "id": "mLL-e2dHg7LS",
        "outputId": "853e5a47-7377-490c-eb3c-0caa8f3cc146"
      },
      "execution_count": null,
      "outputs": [
        {
          "output_type": "stream",
          "name": "stdout",
          "text": [
            "5 is between 0 and 10\n",
            "5 is between 0 and 15\n"
          ]
        }
      ]
    },
    {
      "cell_type": "markdown",
      "source": [
        "9. write a program to covert the user string into integer,float,boolean type."
      ],
      "metadata": {
        "id": "HLC3xx4DkD-j"
      }
    },
    {
      "cell_type": "code",
      "source": [
        "a=input(\"enter the string\")\n",
        "print(int(a))\n",
        "print(float(a))\n",
        "print(bool(a))"
      ],
      "metadata": {
        "colab": {
          "base_uri": "https://localhost:8080/"
        },
        "id": "AccRoenYg7N-",
        "outputId": "a20434d0-9c72-4808-a396-3e1b4635a953"
      },
      "execution_count": null,
      "outputs": [
        {
          "output_type": "stream",
          "name": "stdout",
          "text": [
            "enter the string0\n",
            "0\n",
            "0.0\n",
            "True\n"
          ]
        }
      ]
    },
    {
      "cell_type": "markdown",
      "source": [
        "10. write code to demonstrate type casting with list elements."
      ],
      "metadata": {
        "id": "OqDP3VkLo2AJ"
      }
    },
    {
      "cell_type": "code",
      "source": [],
      "metadata": {
        "id": "s39pf-0rg7Sc"
      },
      "execution_count": null,
      "outputs": []
    },
    {
      "cell_type": "markdown",
      "source": [
        "11. write a program that checks if the number is positive, negative or zero."
      ],
      "metadata": {
        "id": "ve0lqef-pQdC"
      }
    },
    {
      "cell_type": "code",
      "source": [
        "a= int(input(\"enter a number:\"))\n",
        "if a>1:\n",
        "  print(\"the number is positve\")\n",
        "elif a==0:\n",
        "  print(\"the number is zero\")\n",
        "else:\n",
        "  print(\"the number is negative\")"
      ],
      "metadata": {
        "colab": {
          "base_uri": "https://localhost:8080/"
        },
        "id": "pDaKOO0Fg7QL",
        "outputId": "c3853c2c-1425-4beb-9365-14af136c8d92"
      },
      "execution_count": null,
      "outputs": [
        {
          "output_type": "stream",
          "name": "stdout",
          "text": [
            "enter a number:-1\n",
            "the number is negative\n"
          ]
        }
      ]
    },
    {
      "cell_type": "markdown",
      "source": [
        "12. write a for loop to print number from 1 to 10"
      ],
      "metadata": {
        "id": "cO12JcUYpcMe"
      }
    },
    {
      "cell_type": "code",
      "source": [
        "for i in range (1,11):\n",
        "  print(i)"
      ],
      "metadata": {
        "colab": {
          "base_uri": "https://localhost:8080/"
        },
        "id": "KEZfS2-cpnid",
        "outputId": "ad41cb7b-1814-42b5-9df6-4497f86d1e0e"
      },
      "execution_count": null,
      "outputs": [
        {
          "output_type": "stream",
          "name": "stdout",
          "text": [
            "1\n",
            "2\n",
            "3\n",
            "4\n",
            "5\n",
            "6\n",
            "7\n",
            "8\n",
            "9\n",
            "10\n"
          ]
        }
      ]
    },
    {
      "cell_type": "markdown",
      "source": [
        "13. write a python program to find the sum of even numbers between 1 to 50"
      ],
      "metadata": {
        "id": "BSpXQBm6pxwP"
      }
    },
    {
      "cell_type": "code",
      "source": [
        "total=0\n",
        "for i in range (1,50):\n",
        "  if i%2==0:\n",
        "    total=total+i\n",
        "print(\"the sum of all the even number between 1 to 50 is:\",total)"
      ],
      "metadata": {
        "colab": {
          "base_uri": "https://localhost:8080/"
        },
        "id": "lg73Tfkopv8y",
        "outputId": "1710db3e-1401-4826-8ae9-23b0c0cd3114"
      },
      "execution_count": null,
      "outputs": [
        {
          "output_type": "stream",
          "name": "stdout",
          "text": [
            "the sum of all the even number between 1 to 50 is: 600\n"
          ]
        }
      ]
    },
    {
      "cell_type": "markdown",
      "source": [
        "14. write a program to reverse a string using a while loop."
      ],
      "metadata": {
        "id": "GoAjTyuPrReR"
      }
    },
    {
      "cell_type": "code",
      "source": [
        "text = input(\"Enter a string: \")\n",
        "reversed_text = \"\"     #started with the empty string to store the reverse string\n",
        "\n",
        "i = len(text) - 1  # Start from the last character\n",
        "\n",
        "while i >= 0:\n",
        "    reversed_text= reversed_text+text[i]\n",
        "    i= i-1\n",
        "\n",
        "print(\"Reversed string:\", reversed_text)"
      ],
      "metadata": {
        "colab": {
          "base_uri": "https://localhost:8080/"
        },
        "id": "aBxMwZGdqYMp",
        "outputId": "c36cf91f-e5e1-4c05-c6f9-14eb3c7bda1b"
      },
      "execution_count": null,
      "outputs": [
        {
          "output_type": "stream",
          "name": "stdout",
          "text": [
            "Enter a string: rohit\n",
            "Reversed string: tihor\n"
          ]
        }
      ]
    },
    {
      "cell_type": "markdown",
      "source": [
        "15. Write a python program to calculate the factorial of a number provided by the user using while loop."
      ],
      "metadata": {
        "id": "qDX9zSwQ1PaC"
      }
    },
    {
      "cell_type": "code",
      "source": [
        "num = int(input(\"Enter a number: \"))\n",
        "factorial = 1\n",
        "i = 1\n",
        "\n",
        "while i <= num:\n",
        "    factorial *= i  # Same as: factorial = factorial * i\n",
        "    i += 1\n",
        "\n",
        "print(\"Factorial of\", num, \"is:\", factorial)\n"
      ],
      "metadata": {
        "colab": {
          "base_uri": "https://localhost:8080/"
        },
        "id": "0nSeA6NNrLqk",
        "outputId": "a242d634-4c63-43bc-fc73-47f88aa1b2ef"
      },
      "execution_count": null,
      "outputs": [
        {
          "output_type": "stream",
          "name": "stdout",
          "text": [
            "Enter a number: 5\n",
            "Factorial of 5 is: 120\n"
          ]
        }
      ]
    }
  ]
}